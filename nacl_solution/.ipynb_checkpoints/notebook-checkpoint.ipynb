{
 "cells": [
  {
   "cell_type": "code",
   "execution_count": 1,
   "id": "b4a9cf59",
   "metadata": {},
   "outputs": [],
   "source": [
    "import numpy as np\n",
    "import matplotlib.pyplot as plt"
   ]
  },
  {
   "cell_type": "code",
   "execution_count": 2,
   "id": "0ee4c4f8",
   "metadata": {},
   "outputs": [],
   "source": [
    "%matplotlib widget"
   ]
  },
  {
   "cell_type": "code",
   "execution_count": 15,
   "id": "89eb9a1b",
   "metadata": {},
   "outputs": [],
   "source": [
    "lmp0 = np.loadtxt('lmp0/md.out')\n",
    "lmp1 = np.loadtxt('lmp1/md.out')"
   ]
  },
  {
   "cell_type": "code",
   "execution_count": 16,
   "id": "fa85d21f",
   "metadata": {},
   "outputs": [
    {
     "name": "stdout",
     "output_type": "stream",
     "text": [
      "#       step         max_devi_v         min_devi_v         avg_devi_v         max_devi_f         min_devi_f         avg_devi_f\r\n",
      "           0       9.061598e-04       1.044963e-04       4.680057e-04       5.878663e-02       4.183256e-03       1.124199e-02\r\n",
      "         100       9.516900e-04       1.108208e-04       4.286632e-04       2.807717e-02       4.203901e-03       1.066631e-02\r\n",
      "         200       1.011308e-03       2.513391e-04       5.822829e-04       2.665360e-02       3.864567e-03       1.057556e-02\r\n",
      "         300       8.392682e-04       7.071634e-05       5.059067e-04       2.407017e-02       3.052125e-03       1.032582e-02\r\n",
      "         400       7.017707e-04       1.733970e-04       3.834129e-04       5.331755e-02       4.120569e-03       1.092116e-02\r\n",
      "         500       6.702683e-04       1.414773e-04       3.761690e-04       1.898529e-02       2.609526e-03       1.039506e-02\r\n",
      "         600       6.629402e-04       1.962939e-04       4.359578e-04       2.994276e-02       3.458533e-03       1.074840e-02\r\n",
      "         700       7.132026e-04       2.177281e-04       4.000253e-04       3.258326e-02       3.122823e-03       1.054194e-02\r\n",
      "         800       9.823665e-04       1.210660e-04       4.856695e-04       2.297479e-02       4.912643e-03       1.034383e-02\r\n"
     ]
    }
   ],
   "source": [
    "!head lmp0/md.out"
   ]
  },
  {
   "cell_type": "code",
   "execution_count": 19,
   "id": "3823a059",
   "metadata": {},
   "outputs": [
    {
     "data": {
      "application/vnd.jupyter.widget-view+json": {
       "model_id": "2aa5472aa6ba4f468064ea345cc20ca7",
       "version_major": 2,
       "version_minor": 0
      },
      "text/plain": [
       "Canvas(toolbar=Toolbar(toolitems=[('Home', 'Reset original view', 'home', 'home'), ('Back', 'Back to previous …"
      ]
     },
     "metadata": {},
     "output_type": "display_data"
    },
    {
     "data": {
      "text/plain": [
       "<matplotlib.collections.PathCollection at 0x7f7a3a043090>"
      ]
     },
     "execution_count": 19,
     "metadata": {},
     "output_type": "execute_result"
    }
   ],
   "source": [
    "fig,ax = plt.subplots(1, figsize=(8,6))\n",
    "\n",
    "ax.set_ylabel('$\\sigma_{dev} [eV/\\AA]$',fontsize=15)\n",
    "ax.set_xlabel('Time [ps]',fontsize=15)\n",
    "\n",
    "ax.scatter(lmp0[:,0]*2e-4,lmp0[:,4])\n"
   ]
  },
  {
   "cell_type": "code",
   "execution_count": 20,
   "id": "90c779c5",
   "metadata": {},
   "outputs": [
    {
     "data": {
      "application/vnd.jupyter.widget-view+json": {
       "model_id": "13e7f5716c4f4d5cb12558f760fcb306",
       "version_major": 2,
       "version_minor": 0
      },
      "text/plain": [
       "Canvas(toolbar=Toolbar(toolitems=[('Home', 'Reset original view', 'home', 'home'), ('Back', 'Back to previous …"
      ]
     },
     "metadata": {},
     "output_type": "display_data"
    },
    {
     "data": {
      "text/plain": [
       "<matplotlib.collections.PathCollection at 0x7f7a39828210>"
      ]
     },
     "execution_count": 20,
     "metadata": {},
     "output_type": "execute_result"
    }
   ],
   "source": [
    "fig,ax = plt.subplots(1, figsize=(8,6))\n",
    "\n",
    "ax.set_ylabel('$\\sigma_{dev} [eV/\\AA]$',fontsize=15)\n",
    "ax.set_xlabel('Time [ps]',fontsize=15)\n",
    "\n",
    "ax.scatter(lmp1[:,0]*2e-4,lmp1[:,4])\n"
   ]
  },
  {
   "cell_type": "code",
   "execution_count": null,
   "id": "9aa6f113",
   "metadata": {},
   "outputs": [],
   "source": []
  }
 ],
 "metadata": {
  "kernelspec": {
   "display_name": "Python 3",
   "language": "python",
   "name": "python3"
  },
  "language_info": {
   "codemirror_mode": {
    "name": "ipython",
    "version": 3
   },
   "file_extension": ".py",
   "mimetype": "text/x-python",
   "name": "python",
   "nbconvert_exporter": "python",
   "pygments_lexer": "ipython3",
   "version": "3.7.9"
  }
 },
 "nbformat": 4,
 "nbformat_minor": 5
}
