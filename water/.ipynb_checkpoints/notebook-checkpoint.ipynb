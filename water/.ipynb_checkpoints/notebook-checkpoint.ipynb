{
 "cells": [
  {
   "cell_type": "markdown",
   "id": "6d79c93d-5972-438b-b9d5-5a0512af7d00",
   "metadata": {},
   "source": [
    "# First water model"
   ]
  },
  {
   "cell_type": "code",
   "execution_count": 1,
   "id": "4960417f-5821-4325-889a-0dd68c17f9cb",
   "metadata": {},
   "outputs": [],
   "source": [
    "import numpy as np\n",
    "import matplotlib.pyplot as plt"
   ]
  },
  {
   "cell_type": "code",
   "execution_count": 2,
   "id": "bf5669f2-2cae-4c83-be4c-c9f097bc4b73",
   "metadata": {},
   "outputs": [],
   "source": [
    "%matplotlib widget"
   ]
  },
  {
   "cell_type": "markdown",
   "id": "57b7814a-407f-451b-be3b-9801927d4f11",
   "metadata": {},
   "source": [
    "## Data"
   ]
  },
  {
   "cell_type": "code",
   "execution_count": 3,
   "id": "137ed687-9512-477b-bafa-14cd03996c0f",
   "metadata": {},
   "outputs": [
    {
     "name": "stdout",
     "output_type": "stream",
     "text": [
      "\u001b[34mdata_0\u001b[m\u001b[m \u001b[34mdata_1\u001b[m\u001b[m \u001b[34mdata_2\u001b[m\u001b[m \u001b[34mdata_3\u001b[m\u001b[m\r\n"
     ]
    }
   ],
   "source": [
    "!ls data/"
   ]
  },
  {
   "cell_type": "code",
   "execution_count": 4,
   "id": "353bd440-3a14-43a4-9fdd-cee043ae50bc",
   "metadata": {},
   "outputs": [
    {
     "name": "stdout",
     "output_type": "stream",
     "text": [
      "box.raw      energy.raw   \u001b[34mset.000\u001b[m\u001b[m      type_map.raw\r\n",
      "coord.raw    force.raw    type.raw\r\n"
     ]
    }
   ],
   "source": [
    "!ls data/data_0/"
   ]
  },
  {
   "cell_type": "code",
   "execution_count": 5,
   "id": "2bf7f888-a9ee-4a2b-a75f-ec5693124d64",
   "metadata": {},
   "outputs": [],
   "source": [
    "# raw file is a plain text file with each information \n",
    "# item written in one file and one frame written on one line"
   ]
  },
  {
   "cell_type": "code",
   "execution_count": 6,
   "id": "fb6bdc82-8285-46a5-9ead-ace3e946ff20",
   "metadata": {},
   "outputs": [],
   "source": [
    "box = np.loadtxt('data/data_0/box.raw')\n",
    "coord = np.loadtxt('data/data_0/coord.raw')\n",
    "energy =  np.loadtxt('data/data_0/energy.raw')\n",
    "force = np.loadtxt('data/data_0/force.raw')\n",
    "type = np.loadtxt('data/data_0/type.raw', dtype = int)"
   ]
  },
  {
   "cell_type": "code",
   "execution_count": 23,
   "id": "c00baa89-6851-439e-9f3e-57620238a4c7",
   "metadata": {},
   "outputs": [
    {
     "name": "stdout",
     "output_type": "stream",
     "text": [
      "box shape:    (80, 9)\n",
      "coord shape:  (80, 576)\n",
      "force shape:  (80, 576)\n",
      "energy shape: (80,)\n",
      "type shape:   (192,)\n"
     ]
    }
   ],
   "source": [
    "print('box shape:   ', box.shape)\n",
    "print('coord shape: ',coord.shape)\n",
    "print('force shape: ',force.shape)\n",
    "print('energy shape:',energy.shape)\n",
    "print('type shape:  ',type.shape)"
   ]
  },
  {
   "cell_type": "code",
   "execution_count": 24,
   "id": "5cdcc487-c731-4229-91c9-a03a78656952",
   "metadata": {},
   "outputs": [
    {
     "data": {
      "text/plain": [
       "-29943.90625"
      ]
     },
     "execution_count": 24,
     "metadata": {},
     "output_type": "execute_result"
    }
   ],
   "source": [
    "energy[0]"
   ]
  },
  {
   "cell_type": "code",
   "execution_count": 25,
   "id": "4ca9fb80-c51a-4823-85fa-8d809aa944a6",
   "metadata": {},
   "outputs": [
    {
     "data": {
      "text/plain": [
       "array([12.44466114,  0.        ,  0.        ,  0.        , 12.44466114,\n",
       "        0.        ,  0.        ,  0.        , 12.44466114])"
      ]
     },
     "execution_count": 25,
     "metadata": {},
     "output_type": "execute_result"
    }
   ],
   "source": [
    "box[0]"
   ]
  },
  {
   "cell_type": "code",
   "execution_count": 26,
   "id": "6d62508d-b7e1-4dcc-bac4-555f4e40462a",
   "metadata": {},
   "outputs": [
    {
     "data": {
      "text/plain": [
       "array([ 7.53878593,  2.05621004,  4.5207386 ,  8.84508419,  5.44159889,\n",
       "        9.92329502,  9.63808727,  1.80971217, 11.037076  ])"
      ]
     },
     "execution_count": 26,
     "metadata": {},
     "output_type": "execute_result"
    }
   ],
   "source": [
    "coord[0][:9]"
   ]
  },
  {
   "cell_type": "code",
   "execution_count": 27,
   "id": "5b90ae38-e7bd-4dc5-80df-8a8e6895a9ab",
   "metadata": {},
   "outputs": [
    {
     "data": {
      "text/plain": [
       "array([ 0.62199688,  0.18400981, -0.04290577, -0.38405064, -0.03408888,\n",
       "        1.04458654, -0.77660382,  0.41346776, -0.09799526])"
      ]
     },
     "execution_count": 27,
     "metadata": {},
     "output_type": "execute_result"
    }
   ],
   "source": [
    "force[0][:9]"
   ]
  },
  {
   "cell_type": "code",
   "execution_count": 28,
   "id": "9befdc78-95bc-4e2c-bd35-27bb5ac0fd09",
   "metadata": {},
   "outputs": [
    {
     "data": {
      "text/plain": [
       "array([0, 0, 0, 0, 0, 0, 0, 0, 0, 0, 0, 0, 0, 0, 0, 0, 0, 0, 0, 0, 0, 0,\n",
       "       0, 0, 0, 0, 0, 0, 0, 0, 0, 0, 0, 0, 0, 0, 0, 0, 0, 0, 0, 0, 0, 0,\n",
       "       0, 0, 0, 0, 0, 0, 0, 0, 0, 0, 0, 0, 0, 0, 0, 0, 0, 0, 0, 0, 1, 1,\n",
       "       1, 1, 1, 1, 1, 1, 1, 1, 1, 1, 1, 1, 1, 1, 1, 1, 1, 1, 1, 1, 1, 1,\n",
       "       1, 1, 1, 1, 1, 1, 1, 1, 1, 1, 1, 1, 1, 1, 1, 1, 1, 1, 1, 1, 1, 1,\n",
       "       1, 1, 1, 1, 1, 1, 1, 1, 1, 1, 1, 1, 1, 1, 1, 1, 1, 1, 1, 1, 1, 1,\n",
       "       1, 1, 1, 1, 1, 1, 1, 1, 1, 1, 1, 1, 1, 1, 1, 1, 1, 1, 1, 1, 1, 1,\n",
       "       1, 1, 1, 1, 1, 1, 1, 1, 1, 1, 1, 1, 1, 1, 1, 1, 1, 1, 1, 1, 1, 1,\n",
       "       1, 1, 1, 1, 1, 1, 1, 1, 1, 1, 1, 1, 1, 1, 1, 1])"
      ]
     },
     "execution_count": 28,
     "metadata": {},
     "output_type": "execute_result"
    }
   ],
   "source": [
    "type"
   ]
  },
  {
   "cell_type": "code",
   "execution_count": 29,
   "id": "086f3ed2-a2df-45d5-a349-87c07519b6fb",
   "metadata": {},
   "outputs": [
    {
     "name": "stdout",
     "output_type": "stream",
     "text": [
      "mkdir: data/data_0/set.000: File exists\r\n"
     ]
    }
   ],
   "source": [
    "!mkdir data/data_0/set.000"
   ]
  },
  {
   "cell_type": "code",
   "execution_count": 15,
   "id": "bccd0a44-051b-4467-8363-45e9b6bcdfd9",
   "metadata": {},
   "outputs": [],
   "source": [
    "np.save('data/data_0/set.000/box.npy',box)\n",
    "np.save('data/data_0/set.000/energy.npy',energy)\n",
    "np.save('data/data_0/set.000/forces.npy',force)\n",
    "np.save('data/data_0/set.000/coord.npy',coord)"
   ]
  },
  {
   "cell_type": "markdown",
   "id": "cc46f7fc-f804-47f6-89db-4a6bbd0834ed",
   "metadata": {},
   "source": [
    "## Train the model"
   ]
  },
  {
   "cell_type": "code",
   "execution_count": 30,
   "id": "dbd2453a-50a8-40b5-b486-d257dc77da85",
   "metadata": {},
   "outputs": [
    {
     "name": "stdout",
     "output_type": "stream",
     "text": [
      "{\r\n",
      "  \"_comment\": \" model parameters\",\r\n",
      "  \"model\": {\r\n",
      "    \"type_map\": [\r\n",
      "      \"O\",\r\n",
      "      \"H\"\r\n",
      "    ],\r\n",
      "    \"descriptor\": {\r\n",
      "      \"type\": \"se_e2_a\",\r\n",
      "      \"sel\": [\r\n",
      "        46,\r\n",
      "        92\r\n",
      "      ],\r\n",
      "      \"rcut_smth\": 0.50,\r\n",
      "      \"rcut\": 6.00,\r\n",
      "      \"neuron\": [\r\n",
      "        25,\r\n",
      "        50,\r\n",
      "        100\r\n",
      "      ],\r\n",
      "      \"resnet_dt\": false,\r\n",
      "      \"axis_neuron\": 16,\r\n",
      "      \"precision\": \"float64\",\r\n",
      "      \"seed\": 1,\r\n",
      "      \"_comment\": \" that's all\"\r\n",
      "    },\r\n",
      "    \"fitting_net\": {\r\n",
      "      \"neuron\": [\r\n",
      "        240,\r\n",
      "        240,\r\n",
      "        240\r\n",
      "      ],\r\n",
      "      \"resnet_dt\": true,\r\n",
      "      \"precision\": \"float64\",\r\n",
      "      \"seed\": 1,\r\n",
      "      \"_comment\": \" that's all\"\r\n",
      "    },\r\n",
      "    \"_comment\": \" that's all\"\r\n",
      "  },\r\n",
      "\r\n",
      "  \"learning_rate\": {\r\n",
      "    \"type\": \"exp\",\r\n",
      "    \"decay_steps\": 5000,\r\n",
      "    \"start_lr\": 0.001,\r\n",
      "    \"stop_lr\": 3.51e-8,\r\n",
      "    \"_comment\": \"that's all\"\r\n",
      "  },\r\n",
      "\r\n",
      "  \"loss\": {\r\n",
      "    \"type\": \"ener\",\r\n",
      "    \"start_pref_e\": 0.02,\r\n",
      "    \"limit_pref_e\": 1,\r\n",
      "    \"start_pref_f\": 1000,\r\n",
      "    \"limit_pref_f\": 1,\r\n",
      "    \"start_pref_v\": 0,\r\n",
      "    \"limit_pref_v\": 0,\r\n",
      "    \"_comment\": \" that's all\"\r\n",
      "  },\r\n",
      "\r\n",
      "  \"training\": {\r\n",
      "    \"training_data\": {\r\n",
      "      \"systems\": [\r\n",
      "        \"../data/data_0/\",\r\n",
      "        \"../data/data_1/\",\r\n",
      "        \"../data/data_2/\"\r\n",
      "      ],\r\n",
      "      \"batch_size\": \"auto\",\r\n",
      "      \"_comment\": \"that's all\"\r\n",
      "    },\r\n",
      "    \"validation_data\": {\r\n",
      "      \"systems\": [\r\n",
      "        \"../data/data_3\"\r\n",
      "      ],\r\n",
      "      \"batch_size\": 1,\r\n",
      "      \"numb_btch\": 3,\r\n",
      "      \"_comment\": \"that's all\"\r\n",
      "    },\r\n",
      "    \"numb_steps\": 500000,\r\n",
      "    \"seed\": 10,\r\n",
      "    \"disp_file\": \"lcurve.out\",\r\n",
      "    \"disp_freq\": 100,\r\n",
      "    \"save_freq\": 1000,\r\n",
      "    \"_comment\": \"that's all\"\r\n",
      "  },\r\n",
      "\r\n",
      "  \"_comment\": \"that's all\"\r\n",
      "}\r\n"
     ]
    }
   ],
   "source": [
    "!cat train/input.json"
   ]
  },
  {
   "cell_type": "code",
   "execution_count": 31,
   "id": "b0e4ca80-b0e2-47d2-b676-9f4d9c7f0def",
   "metadata": {},
   "outputs": [],
   "source": [
    "# start the training"
   ]
  },
  {
   "cell_type": "code",
   "execution_count": 32,
   "id": "dbeda190-5f92-4062-b7a2-662e927a02c5",
   "metadata": {},
   "outputs": [
    {
     "name": "stdout",
     "output_type": "stream",
     "text": [
      "zsh:1: command not found: dp\r\n"
     ]
    }
   ],
   "source": [
    "!dp train input.json -l train.log"
   ]
  },
  {
   "cell_type": "code",
   "execution_count": 33,
   "id": "1b59c009-6e53-4e3c-93ad-6fc9b6527e88",
   "metadata": {},
   "outputs": [
    {
     "name": "stdout",
     "output_type": "stream",
     "text": [
      "#  step      rmse_val    rmse_trn    rmse_e_val  rmse_e_trn    rmse_f_val  rmse_f_trn         lr\r\n",
      "      0      2.60e+01    2.61e+01      6.76e-01    6.76e-01      8.20e-01    8.23e-01    1.0e-03\r\n",
      "    100      1.18e+01    1.11e+01      1.90e-01    1.81e-01      3.73e-01    3.50e-01    1.0e-03\r\n",
      "    200      7.50e+00    7.34e+00      5.96e-02    5.33e-02      2.37e-01    2.32e-01    1.0e-03\r\n",
      "    300      6.12e+00    5.66e+00      5.16e-02    5.17e-02      1.94e-01    1.79e-01    1.0e-03\r\n",
      "    400      5.24e+00    5.22e+00      7.22e-04    4.92e-03      1.66e-01    1.65e-01    1.0e-03\r\n",
      "    500      4.90e+00    4.66e+00      6.78e-02    6.39e-02      1.55e-01    1.47e-01    1.0e-03\r\n",
      "    600      4.64e+00    4.53e+00      3.01e-02    2.85e-02      1.47e-01    1.43e-01    1.0e-03\r\n",
      "    700      4.22e+00    4.72e+00      3.26e-03    4.81e-03      1.34e-01    1.49e-01    1.0e-03\r\n",
      "    800      5.00e+00    4.65e+00      3.18e-02    3.06e-02      1.58e-01    1.47e-01    1.0e-03\r\n"
     ]
    }
   ],
   "source": [
    "!head train/lcurve.out"
   ]
  },
  {
   "cell_type": "code",
   "execution_count": 34,
   "id": "73e801de-ad78-4141-9275-f14ea9775759",
   "metadata": {},
   "outputs": [],
   "source": [
    "lcurve = np.loadtxt('train/lcurve.out',skiprows=1)"
   ]
  },
  {
   "cell_type": "code",
   "execution_count": 35,
   "id": "9adf4387-3455-4d15-96d0-ba8840fbfb89",
   "metadata": {},
   "outputs": [
    {
     "data": {
      "application/vnd.jupyter.widget-view+json": {
       "model_id": "3317354bceb3437da9a0a62c4a3859c3",
       "version_major": 2,
       "version_minor": 0
      },
      "text/plain": [
       "Canvas(toolbar=Toolbar(toolitems=[('Home', 'Reset original view', 'home', 'home'), ('Back', 'Back to previous …"
      ]
     },
     "metadata": {},
     "output_type": "display_data"
    },
    {
     "data": {
      "text/plain": [
       "<matplotlib.legend.Legend at 0x7f7c9c2e2490>"
      ]
     },
     "execution_count": 35,
     "metadata": {},
     "output_type": "execute_result"
    }
   ],
   "source": [
    "fig,ax = plt.subplots(1, figsize=(8,6))\n",
    "\n",
    "ax.set_yscale('log')\n",
    "ax.set_ylabel('Loss',fontsize=15)\n",
    "ax.set_xlabel('steps',fontsize=15)\n",
    "\n",
    "ax.plot(lcurve[:,0],lcurve[:,1],label = 'validation set')\n",
    "ax.plot(lcurve[:,0],lcurve[:,2], label = 'training set')\n",
    "\n",
    "plt.legend(fontsize=20)"
   ]
  },
  {
   "cell_type": "code",
   "execution_count": 36,
   "id": "1cae4144-c8a9-4dcb-9657-de2cd5d7cf65",
   "metadata": {},
   "outputs": [
    {
     "data": {
      "application/vnd.jupyter.widget-view+json": {
       "model_id": "02db1a5c5830490dba6d6d53cbc7133b",
       "version_major": 2,
       "version_minor": 0
      },
      "text/plain": [
       "Canvas(toolbar=Toolbar(toolitems=[('Home', 'Reset original view', 'home', 'home'), ('Back', 'Back to previous …"
      ]
     },
     "metadata": {},
     "output_type": "display_data"
    },
    {
     "data": {
      "text/plain": [
       "<matplotlib.legend.Legend at 0x7f7c9e265ad0>"
      ]
     },
     "execution_count": 36,
     "metadata": {},
     "output_type": "execute_result"
    }
   ],
   "source": [
    "fig,ax = plt.subplots(1, figsize=(8,6))\n",
    "\n",
    "ax.set_yscale('log')\n",
    "\n",
    "ax.set_ylabel('energy RMSE',fontsize=15)\n",
    "ax.set_xlabel('steps',fontsize=15)\n",
    "ax.plot(lcurve[:,0],lcurve[:,4], label = 'training set')\n",
    "ax.plot(lcurve[:,0],lcurve[:,3],label = 'validation set')\n",
    "\n",
    "plt.legend(fontsize=20)"
   ]
  },
  {
   "cell_type": "code",
   "execution_count": 37,
   "id": "f81d3d0e-d8c8-4e1f-b5fa-ca06c0e1dbaa",
   "metadata": {},
   "outputs": [
    {
     "data": {
      "application/vnd.jupyter.widget-view+json": {
       "model_id": "e3c0e0866a934ad9ad0af6aa3510394f",
       "version_major": 2,
       "version_minor": 0
      },
      "text/plain": [
       "Canvas(toolbar=Toolbar(toolitems=[('Home', 'Reset original view', 'home', 'home'), ('Back', 'Back to previous …"
      ]
     },
     "metadata": {},
     "output_type": "display_data"
    },
    {
     "data": {
      "text/plain": [
       "<matplotlib.legend.Legend at 0x7f7c9cdd7090>"
      ]
     },
     "execution_count": 37,
     "metadata": {},
     "output_type": "execute_result"
    }
   ],
   "source": [
    "fig,ax = plt.subplots(1, figsize=(8,6))\n",
    "\n",
    "ax.set_yscale('log')\n",
    "\n",
    "ax.set_ylabel('force RMSE',fontsize=15)\n",
    "ax.set_xlabel('steps',fontsize=15)\n",
    "ax.plot(lcurve[:,0],lcurve[:,6], label = 'training set')\n",
    "ax.plot(lcurve[:,0],lcurve[:,5],label = 'validation set')\n",
    "\n",
    "plt.legend(fontsize=20)"
   ]
  },
  {
   "cell_type": "code",
   "execution_count": 38,
   "id": "f62c9a81-cad0-4a0b-9271-7861d997d41f",
   "metadata": {},
   "outputs": [],
   "source": [
    "# training is finished -> freeze the model"
   ]
  },
  {
   "cell_type": "code",
   "execution_count": 39,
   "id": "9b33c26a-e7f5-43b8-99bf-b01e4676ee31",
   "metadata": {},
   "outputs": [
    {
     "name": "stdout",
     "output_type": "stream",
     "text": [
      "zsh:1: command not found: dp\r\n"
     ]
    }
   ],
   "source": [
    "!dp freeze -o frozen_model.pb"
   ]
  },
  {
   "cell_type": "markdown",
   "id": "74ea1fa8-b101-4233-9cd9-abec610eddd6",
   "metadata": {},
   "source": [
    "## Test the model"
   ]
  },
  {
   "cell_type": "code",
   "execution_count": null,
   "id": "d794af6b-a32a-4108-8163-fd3e1749b8dc",
   "metadata": {},
   "outputs": [],
   "source": [
    "# test the model accuracy on new data"
   ]
  },
  {
   "cell_type": "code",
   "execution_count": null,
   "id": "9df9774e-e022-4344-aaf5-6f373e9a1651",
   "metadata": {},
   "outputs": [],
   "source": [
    "!dp test -m frozen_model.pb -s data/data_3 -d test"
   ]
  },
  {
   "cell_type": "code",
   "execution_count": 40,
   "id": "af86156f-2ad5-4a3a-b0bf-05ad1da76174",
   "metadata": {},
   "outputs": [
    {
     "name": "stdout",
     "output_type": "stream",
     "text": [
      "slurm-4106402.out  test.e_peratom.out test.sub           test.v_peratom.out\r\n",
      "test.e.out         test.f.out         test.v.out\r\n"
     ]
    }
   ],
   "source": [
    "!ls train/test/"
   ]
  },
  {
   "cell_type": "code",
   "execution_count": 43,
   "id": "fa6f6006-12b4-47e7-a619-7b4b32f7ace9",
   "metadata": {},
   "outputs": [
    {
     "name": "stdout",
     "output_type": "stream",
     "text": [
      "DEEPMD INFO    # number of test data : 80 \r\n",
      "DEEPMD INFO    Energy MAE         : 5.619416e-02 eV\r\n",
      "DEEPMD INFO    Energy RMSE        : 7.111555e-02 eV\r\n",
      "DEEPMD INFO    Energy MAE/Natoms  : 2.926779e-04 eV\r\n",
      "DEEPMD INFO    Energy RMSE/Natoms : 3.703935e-04 eV\r\n",
      "DEEPMD INFO    Force  MAE         : 2.977409e-02 eV/A\r\n",
      "DEEPMD INFO    Force  RMSE        : 3.855097e-02 eV/A\r\n",
      "DEEPMD INFO    Virial MAE         : 3.993215e+00 eV\r\n",
      "DEEPMD INFO    Virial RMSE        : 5.216717e+00 eV\r\n",
      "DEEPMD INFO    Virial MAE/Natoms  : 2.079799e-02 eV\r\n",
      "DEEPMD INFO    Virial RMSE/Natoms : 2.717040e-02 eV\r\n",
      "DEEPMD INFO    # ----------------------------------------------- \r\n"
     ]
    }
   ],
   "source": [
    "!tail -n12 train/test/slurm-4106402.out"
   ]
  },
  {
   "cell_type": "code",
   "execution_count": 44,
   "id": "020d8cb5-0093-42f8-904c-463628cc3278",
   "metadata": {},
   "outputs": [
    {
     "name": "stdout",
     "output_type": "stream",
     "text": [
      "# ../../data/data_3: data_e pred_e\r\n",
      "-1.559521586100260322e+02 -1.559522100185078557e+02\r\n"
     ]
    }
   ],
   "source": [
    "!head -n2 train/test/test.e_peratom.out"
   ]
  },
  {
   "cell_type": "code",
   "execution_count": 45,
   "id": "c0efd99b-3c9b-452c-9df0-d3880d2543c0",
   "metadata": {},
   "outputs": [
    {
     "name": "stdout",
     "output_type": "stream",
     "text": [
      "# ../../data/data_3: data_fx data_fy data_fz pred_fx pred_fy pred_fz\r\n",
      "-7.395536899566650391e-01 -3.229053020477294922e-01 -6.555342674255371094e-01 -7.594573452100100708e-01 -3.205792322597960653e-01 -6.215667386413357143e-01\r\n"
     ]
    }
   ],
   "source": [
    "!head -n2 train/test/test.f.out"
   ]
  },
  {
   "cell_type": "code",
   "execution_count": 46,
   "id": "8f77f550-6dfd-412e-8596-d9419c92d805",
   "metadata": {},
   "outputs": [],
   "source": [
    "e_peratom = np.loadtxt('train/test/test.e_peratom.out')"
   ]
  },
  {
   "cell_type": "code",
   "execution_count": 47,
   "id": "0c3b2550-2168-440d-ad5a-72d70db5b10d",
   "metadata": {},
   "outputs": [],
   "source": [
    "f = np.loadtxt('train/test/test.f.out')"
   ]
  },
  {
   "cell_type": "code",
   "execution_count": 48,
   "id": "4003d4a0-4d8f-4a57-8597-9cb96a0a7c8c",
   "metadata": {},
   "outputs": [
    {
     "data": {
      "application/vnd.jupyter.widget-view+json": {
       "model_id": "874c2ca234734388a85f8ef10a5a904b",
       "version_major": 2,
       "version_minor": 0
      },
      "text/plain": [
       "Canvas(toolbar=Toolbar(toolitems=[('Home', 'Reset original view', 'home', 'home'), ('Back', 'Back to previous …"
      ]
     },
     "metadata": {},
     "output_type": "display_data"
    },
    {
     "data": {
      "text/plain": [
       "Text(0.5, 1.0, 'Energy accuracy')"
      ]
     },
     "execution_count": 48,
     "metadata": {},
     "output_type": "execute_result"
    }
   ],
   "source": [
    "fig,ax = plt.subplots(1, figsize=(8,6))\n",
    "\n",
    "ax.set_ylabel('DNN pred [eV]',fontsize=15)\n",
    "ax.set_xlabel('DFT data [eV]',fontsize=15)\n",
    "\n",
    "ax.scatter(e_peratom[:,0],e_peratom[:,1])\n",
    "ax.plot([np.min(e_peratom),np.max(e_peratom)],[np.min(e_peratom),np.max(e_peratom)], '--', color = 'black')\n",
    "\n",
    "ax.set_title('Energy accuracy',fontsize=20)"
   ]
  },
  {
   "cell_type": "code",
   "execution_count": 49,
   "id": "2cff5519-7675-4e0b-b4f5-8a7b49fa306d",
   "metadata": {},
   "outputs": [
    {
     "data": {
      "application/vnd.jupyter.widget-view+json": {
       "model_id": "043a0a180e324366b0086ab67aaa2931",
       "version_major": 2,
       "version_minor": 0
      },
      "text/plain": [
       "Canvas(toolbar=Toolbar(toolitems=[('Home', 'Reset original view', 'home', 'home'), ('Back', 'Back to previous …"
      ]
     },
     "metadata": {},
     "output_type": "display_data"
    },
    {
     "data": {
      "text/plain": [
       "Text(0.5, 1.0, 'Force accuracy')"
      ]
     },
     "execution_count": 49,
     "metadata": {},
     "output_type": "execute_result"
    }
   ],
   "source": [
    "fig,ax = plt.subplots(1, figsize=(8,6))\n",
    "\n",
    "ax.set_ylabel(r'DNN pred [eV/$\\AA$]',fontsize=15)\n",
    "ax.set_xlabel(r'DFT data [eV/$\\AA$]',fontsize=15)\n",
    "\n",
    "ax.scatter(f[:,:3],f[:,3:], color = 'red')\n",
    "ax.plot([np.min(f),np.max(f)],[np.min(f),np.max(f)], '--', color = 'black')\n",
    "\n",
    "ax.set_title('Force accuracy',fontsize=20)"
   ]
  },
  {
   "cell_type": "code",
   "execution_count": null,
   "id": "864a9a98-1618-4d3b-99b7-ccbb72df6ad7",
   "metadata": {},
   "outputs": [],
   "source": []
  }
 ],
 "metadata": {
  "kernelspec": {
   "display_name": "Python 3",
   "language": "python",
   "name": "python3"
  },
  "language_info": {
   "codemirror_mode": {
    "name": "ipython",
    "version": 3
   },
   "file_extension": ".py",
   "mimetype": "text/x-python",
   "name": "python",
   "nbconvert_exporter": "python",
   "pygments_lexer": "ipython3",
   "version": "3.7.9"
  }
 },
 "nbformat": 4,
 "nbformat_minor": 5
}
